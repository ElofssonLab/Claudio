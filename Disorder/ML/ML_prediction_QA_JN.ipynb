{
 "cells": [
  {
   "cell_type": "code",
   "execution_count": 6,
   "metadata": {
    "scrolled": true
   },
   "outputs": [],
   "source": [
    "import argparse\n",
    "import sys\n",
    "import pandas as pd\n",
    "import numpy as np\n",
    "import matplotlib as plt\n",
    "import matplotlib.pyplot as plt\n",
    "import seaborn as sns\n",
    "import scipy\n",
    "from sklearn.svm import SVC\n",
    "from sklearn.model_selection import StratifiedKFold\n",
    "from sklearn.feature_selection import RFECV\n",
    "from sklearn.datasets import make_classification\n",
    "from sklearn.model_selection import KFold \n",
    "from sklearn.ensemble import RandomForestRegressor\n",
    "from sklearn.metrics import mean_squared_error\n",
    "from sklearn.externals import joblib\n",
    "from sklearn.linear_model import LinearRegression\n",
    "from sklearn.datasets import make_classification\n",
    "from sklearn.model_selection import GroupShuffleSplit\n",
    "from scipy import stats\n",
    "from yellowbrick.model_selection import RFECV\n",
    "from scipy.stats import pearsonr\n",
    "df = pd.read_csv(\"Data_all_features.0.9_3.0.tot.csv\", sep=',',)\n",
    "#dft = pd.read_csv(\"TM_Qmean_unknow\", header = 0)\n",
    "#print(df['violation'])\n",
    "#pcons = df['Pcons']\n",
    "\n",
    "# Labels are the values we want to predict\n",
    "labels = np.array(df['tmalign'])\n",
    "# Remove the labels from the features\n",
    "# axis 1 refers to the columns\n",
    "#df= df.drop('modelID', axis = 1)\n",
    "cor=df.corr(method = \"pearson\")\n",
    "cor.to_csv('correlation.csv')\n",
    "dft= df.drop(['tmalign','Nmodel',\"DIS\",\"FC\",\"FE\",\"FH\",\"A\",\"C\",\"F\",\"I\",\"H\",\"L\",\"N\",\"P\",\"S\",\"Y\"],axis = 1)\n",
    "dft['index'] = dft.index\n",
    "dft_NoDAN= df.drop(['tmalign', 'modelID','Nmodel','dan'],axis = 1)\n",
    "dft_NoDANLEN= df.drop(['tmalign', 'modelID','Nmodel','dan','seqlength'],axis = 1)\n",
    "dfo = df\n",
    "dfto=dft\n",
    "df = np.array(df)\n",
    "#dft = np.array(dft)\n",
    "\n",
    "dft_NoDAN= np.array(dft_NoDAN)\n",
    "dft_NoDANLEN=np.array(dft_NoDANLEN)"
   ]
  },
  {
   "cell_type": "code",
   "execution_count": 7,
   "metadata": {
    "scrolled": true
   },
   "outputs": [
    {
     "name": "stdout",
     "output_type": "stream",
     "text": [
      "      modelID  pcons  proq4    dan  seqlength      Neff         E         D  \\\n",
      "0     1825001  0.282  0.176  0.369         48   1.00000  0.000000  0.062500   \n",
      "1     1825001  0.265  0.154  0.456         48   1.00000  0.000000  0.062500   \n",
      "2     1825001  0.318  0.174  0.516         48   1.00000  0.000000  0.062500   \n",
      "3     1825001   0.32  0.162  0.515         48   1.00000  0.000000  0.062500   \n",
      "4     1825001  0.266  0.175  0.448         48   1.00000  0.000000  0.062500   \n",
      "5     1027001  0.577  0.136  0.448         32   1.00000  0.093750  0.093750   \n",
      "6     1027001  0.888  0.127  0.809         32   1.00000  0.093750  0.093750   \n",
      "7     1027001  0.888  0.127  0.804         32   1.00000  0.093750  0.093750   \n",
      "8     1027001  0.885  0.133  0.684         32   1.00000  0.093750  0.093750   \n",
      "9     1027001  0.872  0.131  0.862         32   1.00000  0.093750  0.093750   \n",
      "10    2042001  0.533  0.206  0.419         54   1.00000  0.111111  0.037037   \n",
      "11    2042001  0.575  0.220  0.471         54   1.00000  0.111111  0.037037   \n",
      "12    2042001  0.611  0.212  0.439         54   1.00000  0.111111  0.037037   \n",
      "13    2042001  0.449  0.188  0.429         54   1.00000  0.111111  0.037037   \n",
      "14    2042001  0.421  0.199  0.471         54   1.00000  0.111111  0.037037   \n",
      "15    2334001  0.787  0.168  0.450         53   1.00000  0.056604  0.037736   \n",
      "16    2334001  0.807  0.163  0.432         53   1.00000  0.056604  0.037736   \n",
      "17    2334001  0.769  0.162  0.520         53   1.00000  0.056604  0.037736   \n",
      "18    2334001  0.754  0.168  0.493         53   1.00000  0.056604  0.037736   \n",
      "19    2334001  0.666  0.160  0.457         53   1.00000  0.056604  0.037736   \n",
      "20    1144001  0.589  0.216  0.430        100   1.07176  0.040000  0.010000   \n",
      "21    1144001  0.618  0.201  0.460        100   1.07176  0.040000  0.010000   \n",
      "22    1144001  0.507  0.227  0.438        100   1.07176  0.040000  0.010000   \n",
      "23    1144001  0.571  0.189  0.446        100   1.07176  0.040000  0.010000   \n",
      "24    1144001  0.639  0.200  0.440        100   1.07176  0.040000  0.010000   \n",
      "25    1479001  0.448  0.142  0.385         35   1.16666  0.057143  0.057143   \n",
      "26    1479001   0.45  0.192  0.300         35   1.16666  0.057143  0.057143   \n",
      "27    1479001  0.459  0.137  0.393         35   1.16666  0.057143  0.057143   \n",
      "28    1479001  0.442  0.137  0.383         35   1.16666  0.057143  0.057143   \n",
      "29    1479001  0.394  0.135  0.360         35   1.16666  0.057143  0.057143   \n",
      "...       ...    ...    ...    ...        ...       ...       ...       ...   \n",
      "1765   752001  0.977  0.659  0.620         71  11.43210  0.070423  0.070423   \n",
      "1766   752001  0.971  0.676  0.706         71  11.43210  0.070423  0.070423   \n",
      "1767   752001   0.98  0.669  0.644         71  11.43210  0.070423  0.070423   \n",
      "1768   752001  0.965  0.654  0.704         71  11.43210  0.070423  0.070423   \n",
      "1769   752001  0.975  0.670  0.647         71  11.43210  0.070423  0.070423   \n",
      "1770   840004  0.964  0.369  0.544         35  11.81540  0.057143  0.085714   \n",
      "1771   840004  0.955  0.344  0.514         35  11.81540  0.057143  0.085714   \n",
      "1772   840004  0.966  0.359  0.540         35  11.81540  0.057143  0.085714   \n",
      "1773   840004  0.969  0.414  0.531         35  11.81540  0.057143  0.085714   \n",
      "1774   840004  0.964  0.386  0.550         35  11.81540  0.057143  0.085714   \n",
      "1775   787001  0.957  0.603  0.463        124  11.85400  0.032258  0.048387   \n",
      "1776   787001  0.961  0.621  0.484        124  11.85400  0.032258  0.048387   \n",
      "1777   787001  0.957  0.613  0.469        124  11.85400  0.032258  0.048387   \n",
      "1778   787001  0.955  0.614  0.453        124  11.85400  0.032258  0.048387   \n",
      "1779   787001  0.961  0.593  0.457        124  11.85400  0.032258  0.048387   \n",
      "1780   249001  0.985  0.663  0.560         59  11.88760  0.152542  0.169492   \n",
      "1781   249001  0.986  0.669  0.615         59  11.88760  0.152542  0.169492   \n",
      "1782   249001  0.988  0.677  0.576         59  11.88760  0.152542  0.169492   \n",
      "1783   249001  0.988  0.676  0.592         59  11.88760  0.152542  0.169492   \n",
      "1784   249001  0.987  0.661  0.586         59  11.88760  0.152542  0.169492   \n",
      "1785   621001  0.917  0.598  0.546        113  12.49190  0.070796  0.088496   \n",
      "1786   621001  0.923  0.606  0.538        113  12.49190  0.070796  0.088496   \n",
      "1787   621001  0.917  0.584  0.518        113  12.49190  0.070796  0.088496   \n",
      "1788   621001  0.903  0.585  0.492        113  12.49190  0.070796  0.088496   \n",
      "1789   621001  0.925  0.611  0.546        113  12.49190  0.070796  0.088496   \n",
      "1790   748009  0.974  0.632  0.700         56  13.30550  0.071429  0.017857   \n",
      "1791   748009   0.98  0.625  0.706         56  13.30550  0.071429  0.017857   \n",
      "1792   748009  0.981  0.630  0.696         56  13.30550  0.071429  0.017857   \n",
      "1793   748009  0.969  0.629  0.714         56  13.30550  0.071429  0.017857   \n",
      "1794   748009  0.981  0.623  0.684         56  13.30550  0.071429  0.017857   \n",
      "\n",
      "             G         K         M         Q         R         T         W  \\\n",
      "0     0.083333  0.041667  0.000000  0.020833  0.062500  0.083333  0.000000   \n",
      "1     0.083333  0.041667  0.000000  0.020833  0.062500  0.083333  0.000000   \n",
      "2     0.083333  0.041667  0.000000  0.020833  0.062500  0.083333  0.000000   \n",
      "3     0.083333  0.041667  0.000000  0.020833  0.062500  0.083333  0.000000   \n",
      "4     0.083333  0.041667  0.000000  0.020833  0.062500  0.083333  0.000000   \n",
      "5     0.031250  0.125000  0.000000  0.062500  0.156250  0.031250  0.000000   \n",
      "6     0.031250  0.125000  0.000000  0.062500  0.156250  0.031250  0.000000   \n",
      "7     0.031250  0.125000  0.000000  0.062500  0.156250  0.031250  0.000000   \n",
      "8     0.031250  0.125000  0.000000  0.062500  0.156250  0.031250  0.000000   \n",
      "9     0.031250  0.125000  0.000000  0.062500  0.156250  0.031250  0.000000   \n",
      "10    0.037037  0.000000  0.018519  0.074074  0.074074  0.074074  0.000000   \n",
      "11    0.037037  0.000000  0.018519  0.074074  0.074074  0.074074  0.000000   \n",
      "12    0.037037  0.000000  0.018519  0.074074  0.074074  0.074074  0.000000   \n",
      "13    0.037037  0.000000  0.018519  0.074074  0.074074  0.074074  0.000000   \n",
      "14    0.037037  0.000000  0.018519  0.074074  0.074074  0.074074  0.000000   \n",
      "15    0.075472  0.094340  0.037736  0.094340  0.018868  0.056604  0.018868   \n",
      "16    0.075472  0.094340  0.037736  0.094340  0.018868  0.056604  0.018868   \n",
      "17    0.075472  0.094340  0.037736  0.094340  0.018868  0.056604  0.018868   \n",
      "18    0.075472  0.094340  0.037736  0.094340  0.018868  0.056604  0.018868   \n",
      "19    0.075472  0.094340  0.037736  0.094340  0.018868  0.056604  0.018868   \n",
      "20    0.070000  0.020000  0.040000  0.060000  0.050000  0.070000  0.000000   \n",
      "21    0.070000  0.020000  0.040000  0.060000  0.050000  0.070000  0.000000   \n",
      "22    0.070000  0.020000  0.040000  0.060000  0.050000  0.070000  0.000000   \n",
      "23    0.070000  0.020000  0.040000  0.060000  0.050000  0.070000  0.000000   \n",
      "24    0.070000  0.020000  0.040000  0.060000  0.050000  0.070000  0.000000   \n",
      "25    0.028571  0.000000  0.057143  0.028571  0.085714  0.000000  0.000000   \n",
      "26    0.028571  0.000000  0.057143  0.028571  0.085714  0.000000  0.000000   \n",
      "27    0.028571  0.000000  0.057143  0.028571  0.085714  0.000000  0.000000   \n",
      "28    0.028571  0.000000  0.057143  0.028571  0.085714  0.000000  0.000000   \n",
      "29    0.028571  0.000000  0.057143  0.028571  0.085714  0.000000  0.000000   \n",
      "...        ...       ...       ...       ...       ...       ...       ...   \n",
      "1765  0.084507  0.056338  0.056338  0.070423  0.000000  0.112676  0.000000   \n",
      "1766  0.084507  0.056338  0.056338  0.070423  0.000000  0.112676  0.000000   \n",
      "1767  0.084507  0.056338  0.056338  0.070423  0.000000  0.112676  0.000000   \n",
      "1768  0.084507  0.056338  0.056338  0.070423  0.000000  0.112676  0.000000   \n",
      "1769  0.084507  0.056338  0.056338  0.070423  0.000000  0.112676  0.000000   \n",
      "1770  0.085714  0.114286  0.028571  0.028571  0.028571  0.000000  0.028571   \n",
      "1771  0.085714  0.114286  0.028571  0.028571  0.028571  0.000000  0.028571   \n",
      "1772  0.085714  0.114286  0.028571  0.028571  0.028571  0.000000  0.028571   \n",
      "1773  0.085714  0.114286  0.028571  0.028571  0.028571  0.000000  0.028571   \n",
      "1774  0.085714  0.114286  0.028571  0.028571  0.028571  0.000000  0.028571   \n",
      "1775  0.072581  0.056452  0.000000  0.048387  0.016129  0.088710  0.016129   \n",
      "1776  0.072581  0.056452  0.000000  0.048387  0.016129  0.088710  0.016129   \n",
      "1777  0.072581  0.056452  0.000000  0.048387  0.016129  0.088710  0.016129   \n",
      "1778  0.072581  0.056452  0.000000  0.048387  0.016129  0.088710  0.016129   \n",
      "1779  0.072581  0.056452  0.000000  0.048387  0.016129  0.088710  0.016129   \n",
      "1780  0.084746  0.084746  0.067797  0.016949  0.016949  0.050847  0.000000   \n",
      "1781  0.084746  0.084746  0.067797  0.016949  0.016949  0.050847  0.000000   \n",
      "1782  0.084746  0.084746  0.067797  0.016949  0.016949  0.050847  0.000000   \n",
      "1783  0.084746  0.084746  0.067797  0.016949  0.016949  0.050847  0.000000   \n",
      "1784  0.084746  0.084746  0.067797  0.016949  0.016949  0.050847  0.000000   \n",
      "1785  0.061947  0.035398  0.000000  0.044248  0.061947  0.053097  0.008850   \n",
      "1786  0.061947  0.035398  0.000000  0.044248  0.061947  0.053097  0.008850   \n",
      "1787  0.061947  0.035398  0.000000  0.044248  0.061947  0.053097  0.008850   \n",
      "1788  0.061947  0.035398  0.000000  0.044248  0.061947  0.053097  0.008850   \n",
      "1789  0.061947  0.035398  0.000000  0.044248  0.061947  0.053097  0.008850   \n",
      "1790  0.089286  0.089286  0.000000  0.035714  0.071429  0.053571  0.017857   \n",
      "1791  0.089286  0.089286  0.000000  0.035714  0.071429  0.053571  0.017857   \n",
      "1792  0.089286  0.089286  0.000000  0.035714  0.071429  0.053571  0.017857   \n",
      "1793  0.089286  0.089286  0.000000  0.035714  0.071429  0.053571  0.017857   \n",
      "1794  0.089286  0.089286  0.000000  0.035714  0.071429  0.053571  0.017857   \n",
      "\n",
      "             V  index  \n",
      "0     0.062500      0  \n",
      "1     0.062500      1  \n",
      "2     0.062500      2  \n",
      "3     0.062500      3  \n",
      "4     0.062500      4  \n",
      "5     0.000000      5  \n",
      "6     0.000000      6  \n",
      "7     0.000000      7  \n",
      "8     0.000000      8  \n",
      "9     0.000000      9  \n",
      "10    0.055556     10  \n",
      "11    0.055556     11  \n",
      "12    0.055556     12  \n",
      "13    0.055556     13  \n",
      "14    0.055556     14  \n",
      "15    0.037736     15  \n",
      "16    0.037736     16  \n",
      "17    0.037736     17  \n",
      "18    0.037736     18  \n",
      "19    0.037736     19  \n",
      "20    0.070000     20  \n",
      "21    0.070000     21  \n",
      "22    0.070000     22  \n",
      "23    0.070000     23  \n",
      "24    0.070000     24  \n",
      "25    0.028571     25  \n",
      "26    0.028571     26  \n",
      "27    0.028571     27  \n",
      "28    0.028571     28  \n",
      "29    0.028571     29  \n",
      "...        ...    ...  \n",
      "1765  0.084507   1765  \n",
      "1766  0.084507   1766  \n",
      "1767  0.084507   1767  \n",
      "1768  0.084507   1768  \n",
      "1769  0.084507   1769  \n",
      "1770  0.114286   1770  \n",
      "1771  0.114286   1771  \n",
      "1772  0.114286   1772  \n",
      "1773  0.114286   1773  \n",
      "1774  0.114286   1774  \n",
      "1775  0.072581   1775  \n",
      "1776  0.072581   1776  \n",
      "1777  0.072581   1777  \n",
      "1778  0.072581   1778  \n",
      "1779  0.072581   1779  \n",
      "1780  0.016949   1780  \n",
      "1781  0.016949   1781  \n",
      "1782  0.016949   1782  \n",
      "1783  0.016949   1783  \n",
      "1784  0.016949   1784  \n",
      "1785  0.026549   1785  \n",
      "1786  0.026549   1786  \n",
      "1787  0.026549   1787  \n",
      "1788  0.026549   1788  \n",
      "1789  0.026549   1789  \n",
      "1790  0.125000   1790  \n",
      "1791  0.125000   1791  \n",
      "1792  0.125000   1792  \n",
      "1793  0.125000   1793  \n",
      "1794  0.125000   1794  \n",
      "\n",
      "[1795 rows x 17 columns]\n"
     ]
    }
   ],
   "source": [
    "print(dft)"
   ]
  },
  {
   "cell_type": "code",
   "execution_count": 8,
   "metadata": {
    "scrolled": true
   },
   "outputs": [
    {
     "data": {
      "text/plain": [
       "5"
      ]
     },
     "execution_count": 8,
     "metadata": {},
     "output_type": "execute_result"
    }
   ],
   "source": [
    "df = np.array(df)\n",
    "kf = KFold(n_splits=5, shuffle=False)\n",
    "kf.get_n_splits(df)"
   ]
  },
  {
   "cell_type": "code",
   "execution_count": 13,
   "metadata": {
    "scrolled": true
   },
   "outputs": [
    {
     "ename": "AttributeError",
     "evalue": "'numpy.ndarray' object has no attribute 'iloc'",
     "output_type": "error",
     "traceback": [
      "\u001b[0;31m---------------------------------------------------------------------------\u001b[0m",
      "\u001b[0;31mAttributeError\u001b[0m                            Traceback (most recent call last)",
      "\u001b[0;32m<ipython-input-13-e0aabf5e1704>\u001b[0m in \u001b[0;36m<module>\u001b[0;34m\u001b[0m\n\u001b[1;32m      5\u001b[0m \u001b[0;34m\u001b[0m\u001b[0m\n\u001b[1;32m      6\u001b[0m \u001b[0;34m\u001b[0m\u001b[0m\n\u001b[0;32m----> 7\u001b[0;31m \u001b[0mtrain\u001b[0m \u001b[0;34m=\u001b[0m \u001b[0mdf\u001b[0m\u001b[0;34m.\u001b[0m\u001b[0miloc\u001b[0m\u001b[0;34m[\u001b[0m\u001b[0mtrain_inds\u001b[0m\u001b[0;34m]\u001b[0m\u001b[0;34m\u001b[0m\u001b[0m\n\u001b[0m\u001b[1;32m      8\u001b[0m \u001b[0mtest\u001b[0m \u001b[0;34m=\u001b[0m \u001b[0mdf\u001b[0m\u001b[0;34m.\u001b[0m\u001b[0miloc\u001b[0m\u001b[0;34m[\u001b[0m\u001b[0mtest_inds\u001b[0m\u001b[0;34m]\u001b[0m\u001b[0;34m\u001b[0m\u001b[0m\n\u001b[1;32m      9\u001b[0m \u001b[0;31m#print(train_inds)\u001b[0m\u001b[0;34m\u001b[0m\u001b[0;34m\u001b[0m\u001b[0m\n",
      "\u001b[0;31mAttributeError\u001b[0m: 'numpy.ndarray' object has no attribute 'iloc'"
     ]
    }
   ],
   "source": [
    "#train_inds, test_inds = next(GroupShuffleSplit(test_size=.20, n_splits=2, random_state = 7).split(dft, groups=dfo['modelID']))\n",
    "\n",
    "gs = GroupShuffleSplit(n_splits=2, test_size=.2, random_state=0)\n",
    "train_inds, test_inds = next(gs.split(dft, labels, groups=dft['modelID']))\n",
    "\n",
    "\n",
    "train = df.iloc[train_inds]\n",
    "test = df.iloc[test_inds]\n",
    "#print(train_inds)\n",
    "#test_inds=test_inds[4::5]\n",
    "print(test)"
   ]
  },
  {
   "cell_type": "code",
   "execution_count": 11,
   "metadata": {
    "scrolled": false
   },
   "outputs": [
    {
     "name": "stdout",
     "output_type": "stream",
     "text": [
      "KFold(n_splits=5, random_state=None, shuffle=False)\n"
     ]
    },
    {
     "ename": "KeyError",
     "evalue": "\"None of [Int64Index([   5,    6,    7,    8,    9,   10,   11,   12,   13,   14,\\n            ...\\n            1770, 1771, 1772, 1773, 1774, 1775, 1776, 1777, 1778, 1779],\\n           dtype='int64', length=1435)] are in the [columns]\"",
     "output_type": "error",
     "traceback": [
      "\u001b[0;31m---------------------------------------------------------------------------\u001b[0m",
      "\u001b[0;31mKeyError\u001b[0m                                  Traceback (most recent call last)",
      "\u001b[0;32m<ipython-input-11-17d1fc52b1b9>\u001b[0m in \u001b[0;36m<module>\u001b[0;34m\u001b[0m\n\u001b[1;32m      2\u001b[0m \u001b[0mprint\u001b[0m\u001b[0;34m(\u001b[0m\u001b[0mkf\u001b[0m\u001b[0;34m)\u001b[0m\u001b[0;34m\u001b[0m\u001b[0m\n\u001b[1;32m      3\u001b[0m \u001b[0;34m\u001b[0m\u001b[0m\n\u001b[0;32m----> 4\u001b[0;31m \u001b[0mtrain\u001b[0m\u001b[0;34m,\u001b[0m \u001b[0mtest\u001b[0m \u001b[0;34m=\u001b[0m \u001b[0mdft\u001b[0m\u001b[0;34m[\u001b[0m\u001b[0mtrain_inds\u001b[0m\u001b[0;34m]\u001b[0m\u001b[0;34m,\u001b[0m \u001b[0mdft\u001b[0m\u001b[0;34m[\u001b[0m\u001b[0mtest_inds\u001b[0m\u001b[0;34m]\u001b[0m\u001b[0;34m\u001b[0m\u001b[0m\n\u001b[0m\u001b[1;32m      5\u001b[0m \u001b[0;31m#rf.fit(train, labels[train_inds]);\u001b[0m\u001b[0;34m\u001b[0m\u001b[0;34m\u001b[0m\u001b[0m\n\u001b[1;32m      6\u001b[0m \u001b[0;31m#predictions = rf.predict(test)\u001b[0m\u001b[0;34m\u001b[0m\u001b[0;34m\u001b[0m\u001b[0m\n",
      "\u001b[0;32m~/.local/lib/python3.5/site-packages/pandas/core/frame.py\u001b[0m in \u001b[0;36m__getitem__\u001b[0;34m(self, key)\u001b[0m\n\u001b[1;32m   2932\u001b[0m                 \u001b[0mkey\u001b[0m \u001b[0;34m=\u001b[0m \u001b[0mlist\u001b[0m\u001b[0;34m(\u001b[0m\u001b[0mkey\u001b[0m\u001b[0;34m)\u001b[0m\u001b[0;34m\u001b[0m\u001b[0m\n\u001b[1;32m   2933\u001b[0m             indexer = self.loc._convert_to_indexer(key, axis=1,\n\u001b[0;32m-> 2934\u001b[0;31m                                                    raise_missing=True)\n\u001b[0m\u001b[1;32m   2935\u001b[0m \u001b[0;34m\u001b[0m\u001b[0m\n\u001b[1;32m   2936\u001b[0m         \u001b[0;31m# take() does not accept boolean indexers\u001b[0m\u001b[0;34m\u001b[0m\u001b[0;34m\u001b[0m\u001b[0m\n",
      "\u001b[0;32m~/.local/lib/python3.5/site-packages/pandas/core/indexing.py\u001b[0m in \u001b[0;36m_convert_to_indexer\u001b[0;34m(self, obj, axis, is_setter, raise_missing)\u001b[0m\n\u001b[1;32m   1352\u001b[0m                 kwargs = {'raise_missing': True if is_setter else\n\u001b[1;32m   1353\u001b[0m                           raise_missing}\n\u001b[0;32m-> 1354\u001b[0;31m                 \u001b[0;32mreturn\u001b[0m \u001b[0mself\u001b[0m\u001b[0;34m.\u001b[0m\u001b[0m_get_listlike_indexer\u001b[0m\u001b[0;34m(\u001b[0m\u001b[0mobj\u001b[0m\u001b[0;34m,\u001b[0m \u001b[0maxis\u001b[0m\u001b[0;34m,\u001b[0m \u001b[0;34m**\u001b[0m\u001b[0mkwargs\u001b[0m\u001b[0;34m)\u001b[0m\u001b[0;34m[\u001b[0m\u001b[0;36m1\u001b[0m\u001b[0;34m]\u001b[0m\u001b[0;34m\u001b[0m\u001b[0m\n\u001b[0m\u001b[1;32m   1355\u001b[0m         \u001b[0;32melse\u001b[0m\u001b[0;34m:\u001b[0m\u001b[0;34m\u001b[0m\u001b[0m\n\u001b[1;32m   1356\u001b[0m             \u001b[0;32mtry\u001b[0m\u001b[0;34m:\u001b[0m\u001b[0;34m\u001b[0m\u001b[0m\n",
      "\u001b[0;32m~/.local/lib/python3.5/site-packages/pandas/core/indexing.py\u001b[0m in \u001b[0;36m_get_listlike_indexer\u001b[0;34m(self, key, axis, raise_missing)\u001b[0m\n\u001b[1;32m   1159\u001b[0m         self._validate_read_indexer(keyarr, indexer,\n\u001b[1;32m   1160\u001b[0m                                     \u001b[0mo\u001b[0m\u001b[0;34m.\u001b[0m\u001b[0m_get_axis_number\u001b[0m\u001b[0;34m(\u001b[0m\u001b[0maxis\u001b[0m\u001b[0;34m)\u001b[0m\u001b[0;34m,\u001b[0m\u001b[0;34m\u001b[0m\u001b[0m\n\u001b[0;32m-> 1161\u001b[0;31m                                     raise_missing=raise_missing)\n\u001b[0m\u001b[1;32m   1162\u001b[0m         \u001b[0;32mreturn\u001b[0m \u001b[0mkeyarr\u001b[0m\u001b[0;34m,\u001b[0m \u001b[0mindexer\u001b[0m\u001b[0;34m\u001b[0m\u001b[0m\n\u001b[1;32m   1163\u001b[0m \u001b[0;34m\u001b[0m\u001b[0m\n",
      "\u001b[0;32m~/.local/lib/python3.5/site-packages/pandas/core/indexing.py\u001b[0m in \u001b[0;36m_validate_read_indexer\u001b[0;34m(self, key, indexer, axis, raise_missing)\u001b[0m\n\u001b[1;32m   1244\u001b[0m                 raise KeyError(\n\u001b[1;32m   1245\u001b[0m                     u\"None of [{key}] are in the [{axis}]\".format(\n\u001b[0;32m-> 1246\u001b[0;31m                         key=key, axis=self.obj._get_axis_name(axis)))\n\u001b[0m\u001b[1;32m   1247\u001b[0m \u001b[0;34m\u001b[0m\u001b[0m\n\u001b[1;32m   1248\u001b[0m             \u001b[0;31m# We (temporarily) allow for some missing keys with .loc, except in\u001b[0m\u001b[0;34m\u001b[0m\u001b[0;34m\u001b[0m\u001b[0m\n",
      "\u001b[0;31mKeyError\u001b[0m: \"None of [Int64Index([   5,    6,    7,    8,    9,   10,   11,   12,   13,   14,\\n            ...\\n            1770, 1771, 1772, 1773, 1774, 1775, 1776, 1777, 1778, 1779],\\n           dtype='int64', length=1435)] are in the [columns]\""
     ]
    }
   ],
   "source": [
    "rf = RandomForestRegressor(n_estimators = 200, random_state = 42)\n",
    "print(kf)\n",
    "\n",
    "train, test = dft[train_inds], dft[test_inds]\n",
    "#rf.fit(train, labels[train_inds]);\n",
    "#predictions = rf.predict(test)\n",
    "#Pred_TM =[predictions, labels[test_inds]]\n",
    "\n",
    "for train_inds, test_inds in gss.split(X, y, dft):\n",
    "    train, test = dft[train_inds], dft[test_inds]\n",
    "    rf.fit(train, labels[train_inds]);\n",
    "    predictions = rf.predict(test)\n",
    "    errors = abs(predictions - labels[test_inds])\n",
    "    #print('Mean Absolute Error:', round(np.mean(errors), 5), 'TM point.')\n",
    "    mape = 100 * (errors / labels[test_inds])\n",
    "    accuracy = 100 - np.mean(mape)\n",
    "    #MAE = mean_squared_error(labels[test_index], predictions)\n",
    "    #print('MAE',MAE,)\n",
    "    #print(round(accuracy, 2))  #print('Accuracy:', round(accuracy, 2), '%.')\n",
    "    \n",
    "    Pred_TM =[predictions, labels[test_inds]]\n",
    "    \n",
    "    corr, _ = pearsonr(predictions, labels[test_inds])\n",
    "    print( corr)\n",
    "    \n",
    "    #for v in zip(*Pred_TM):\n",
    "    #    print(*v)\n"
   ]
  },
  {
   "cell_type": "code",
   "execution_count": 7,
   "metadata": {},
   "outputs": [
    {
     "name": "stdout",
     "output_type": "stream",
     "text": [
      "[[-0.63316229 -0.3246098   0.06657628 ... -1.11140442  3.36330234\n",
      "   1.53760099]\n",
      " [-0.14048346 -0.81686108  0.33936596 ...  0.4418695   0.63322442\n",
      "   1.07060605]\n",
      " [-1.5917397   0.07704488  1.25647325 ...  0.90744304 -1.13659003\n",
      "  -1.81836975]\n",
      " ...\n",
      " [ 1.63846369 -1.44735579 -0.46802685 ...  0.11457932 -1.18227305\n",
      "   0.72599442]\n",
      " [-1.79886344 -0.52941798 -0.19421666 ... -0.22486457 -0.0813801\n",
      "  -1.33117069]\n",
      " [ 1.05454024  0.47470609 -0.73670261 ... -0.86838853 -1.02166211\n",
      "   0.70167073]] [1 0 4 0 6 4 4 7 1 6 3 5 4 7 5 2 3 7 3 7 6 5 7 5 5 7 6 4 3 7 2 6 7 6 7 6 4\n",
      " 4 2 0 2 7 3 1 6 0 5 3 3 1 2 7 7 2 2 2 4 1 5 3 4 6 7 4 4 7 4 1 6 3 6 4 2 0\n",
      " 3 1 4 4 4 6 0 4 5 4 0 6 1 4 4 4 5 2 1 3 4 2 7 2 0 3 7 6 7 3 7 2 0 3 3 4 1\n",
      " 5 2 3 6 6 3 7 3 0 3 3 1 1 6 5 1 2 7 0 7 7 5 5 1 6 1 5 2 3 0 4 5 4 3 7 1 5\n",
      " 0 6 2 7 2 1 7 6 6 4 3 4 4 2 4 7 5 2 1 1 3 1 1 2 1 5 6 4 6 1 3 3 3 0 5 0 0\n",
      " 3 4 4 1 6 4 0 3 7 3 5 6 7 4 7 1 7 1 2 3 2 3 3 6 4 7 6 7 6 0 6 1 5 3 5 1 0\n",
      " 0 6 6 1 0 6 7 6 0 7 2 2 7 1 5 7 4 4 0 1 2 0 4 5 6 7 1 2 3 0 0 3 5 1 3 3 6\n",
      " 6 2 6 7 4 0 3 7 7 1 7 2 4 0 6 0 3 7 1 5 4 3 2 3 3 7 3 1 0 6 1 7 7 1 5 3 3\n",
      " 4 6 4 5 7 4 4 6 6 5 6 0 3 1 1 5 7 2 2 4 7 7 6 1 2 2 2 2 0 2 7 7 4 3 2 6 3\n",
      " 2 4 5 0 7 6 5 6 6 1 3 5 0 4 3 2 7 0 2 1 0 2 3 0 7 4 6 3 4 5 2 5 2 3 3 5 7\n",
      " 0 5 4 5 5 5 1 0 1 4 4 3 0 5 7 1 5 0 4 5 1 7 3 3 1 3 3 7 6 6 6 5 1 6 4 3 1\n",
      " 7 3 4 6 0 6 0 3 2 7 2 6 7 2 1 4 3 7 1 4 0 4 5 5 7 2 1 2 1 3 5 1 4 1 1 1 6\n",
      " 7 6 2 6 5 1 5 0 0 7 1 3 1 2 5 1 7 0 2 1 3 0 6 1 7 0 0 2 2 6 4 0 5 6 4 1 5\n",
      " 6 2 3 2 6 6 6 5 5 0 1 2 7 0 1 0 6 2 0 3 5 3 0 5 0 2 1 0 4 5 7 3 0 7 5 4 4\n",
      " 4 4 5 6 4 4 2 4 6 0 5 1 2 0 3 6 3 7 6 0 1 4 6 5 0 4 2 5 1 7 1 0 5 0 2 1 0\n",
      " 6 1 3 6 7 1 3 1 5 1 5 5 4 5 2 6 3 5 1 7 6 3 5 7 1 6 2 5 3 0 2 5 6 0 6 4 5\n",
      " 4 4 4 6 0 2 3 0 1 2 1 2 7 5 4 2 5 7 5 0 2 5 7 1 3 2 1 0 0 3 5 3 3 0 3 4 7\n",
      " 2 3 4 4 4 6 2 3 0 3 6 7 4 4 7 1 6 5 1 5 0 7 5 2 3 7 4 0 5 1 3 5 3 7 0 3 6\n",
      " 4 5 1 2 0 2 3 1 3 1 4 1 6 1 4 0 4 6 1 7 7 1 1 1 5 2 1 4 3 1 7 1 4 2 0 7 3\n",
      " 5 0 5 4 3 6 3 0 0 5 3 2 6 2 5 7 3 4 3 0 0 4 7 6 7 5 4 1 0 5 0 4 2 5 2 3 5\n",
      " 1 7 7 2 1 2 5 6 6 7 1 5 7 7 6 6 1 2 1 1 5 7 4 3 2 1 1 6 6 6 2 7 7 1 4 3 1\n",
      " 0 1 1 0 2 6 7 7 0 5 2 2 6 2 5 6 5 0 7 0 7 6 3 6 0 4 5 4 7 1 6 2 6 0 2 1 4\n",
      " 0 0 2 0 6 6 4 7 6 7 0 2 2 0 2 5 3 7 7 6 1 5 2 6 3 7 0 4 5 3 3 2 6 7 1 2 1\n",
      " 7 6 3 3 1 6 6 0 4 3 6 3 0 3 3 7 4 0 6 5 2 5 2 1 5 0 4 3 1 2 4 2 7 1 0 6 5\n",
      " 3 0 5 4 1 7 5 6 6 7 2 3 0 7 5 4 0 4 7 3 3 2 4 4 5 4 7 0 3 7 0 5 5 0 0 3 6\n",
      " 2 3 5 4 5 5 5 0 1 3 2 2 2 5 6 5 0 2 3 3 4 0 0 5 2 7 6 7 0 2 0 2 1 4 6 0 6\n",
      " 5 0 5 2 2 1 2 4 2 0 5 0 4 4 2 7 4 5 1 3 5 2 6 2 0 7 6 4 0 2 7 6 2 4 2 4 6\n",
      " 1]\n"
     ]
    },
    {
     "ename": "ValueError",
     "evalue": "Classification metrics can't handle a mix of multiclass and continuous targets",
     "output_type": "error",
     "traceback": [
      "\u001b[0;31m---------------------------------------------------------------------------\u001b[0m",
      "\u001b[0;31mValueError\u001b[0m                                Traceback (most recent call last)",
      "\u001b[0;32m<ipython-input-7-2516f4355e8b>\u001b[0m in \u001b[0;36m<module>\u001b[0;34m\u001b[0m\n\u001b[1;32m     14\u001b[0m               min_features_to_select=min_features_to_select)\n\u001b[1;32m     15\u001b[0m \u001b[0mprint\u001b[0m\u001b[0;34m(\u001b[0m\u001b[0mX\u001b[0m\u001b[0;34m,\u001b[0m \u001b[0my\u001b[0m\u001b[0;34m)\u001b[0m\u001b[0;34m\u001b[0m\u001b[0m\n\u001b[0;32m---> 16\u001b[0;31m \u001b[0mrfecv\u001b[0m\u001b[0;34m.\u001b[0m\u001b[0mfit\u001b[0m\u001b[0;34m(\u001b[0m\u001b[0mX\u001b[0m\u001b[0;34m,\u001b[0m \u001b[0my\u001b[0m\u001b[0;34m)\u001b[0m\u001b[0;34m\u001b[0m\u001b[0m\n\u001b[0m",
      "\u001b[0;32m~/.local/lib/python3.5/site-packages/yellowbrick/model_selection/rfecv.py\u001b[0m in \u001b[0;36mfit\u001b[0;34m(self, X, y)\u001b[0m\n\u001b[1;32m    195\u001b[0m         \u001b[0;32mfor\u001b[0m \u001b[0mn_features_to_select\u001b[0m \u001b[0;32min\u001b[0m \u001b[0mself\u001b[0m\u001b[0;34m.\u001b[0m\u001b[0mn_feature_subsets_\u001b[0m\u001b[0;34m:\u001b[0m\u001b[0;34m\u001b[0m\u001b[0m\n\u001b[1;32m    196\u001b[0m             \u001b[0mrfe\u001b[0m\u001b[0;34m.\u001b[0m\u001b[0mset_params\u001b[0m\u001b[0;34m(\u001b[0m\u001b[0mn_features_to_select\u001b[0m\u001b[0;34m=\u001b[0m\u001b[0mn_features_to_select\u001b[0m\u001b[0;34m)\u001b[0m\u001b[0;34m\u001b[0m\u001b[0m\n\u001b[0;32m--> 197\u001b[0;31m             \u001b[0mscores\u001b[0m\u001b[0;34m.\u001b[0m\u001b[0mappend\u001b[0m\u001b[0;34m(\u001b[0m\u001b[0mcross_val_score\u001b[0m\u001b[0;34m(\u001b[0m\u001b[0mrfe\u001b[0m\u001b[0;34m,\u001b[0m \u001b[0mX\u001b[0m\u001b[0;34m,\u001b[0m \u001b[0my\u001b[0m\u001b[0;34m,\u001b[0m \u001b[0;34m**\u001b[0m\u001b[0mcv_params\u001b[0m\u001b[0;34m)\u001b[0m\u001b[0;34m)\u001b[0m\u001b[0;34m\u001b[0m\u001b[0m\n\u001b[0m\u001b[1;32m    198\u001b[0m \u001b[0;34m\u001b[0m\u001b[0m\n\u001b[1;32m    199\u001b[0m         \u001b[0;31m# Convert scores to array\u001b[0m\u001b[0;34m\u001b[0m\u001b[0;34m\u001b[0m\u001b[0m\n",
      "\u001b[0;32m~/.local/lib/python3.5/site-packages/sklearn/model_selection/_validation.py\u001b[0m in \u001b[0;36mcross_val_score\u001b[0;34m(estimator, X, y, groups, scoring, cv, n_jobs, verbose, fit_params, pre_dispatch, error_score)\u001b[0m\n\u001b[1;32m    388\u001b[0m                                 \u001b[0mfit_params\u001b[0m\u001b[0;34m=\u001b[0m\u001b[0mfit_params\u001b[0m\u001b[0;34m,\u001b[0m\u001b[0;34m\u001b[0m\u001b[0m\n\u001b[1;32m    389\u001b[0m                                 \u001b[0mpre_dispatch\u001b[0m\u001b[0;34m=\u001b[0m\u001b[0mpre_dispatch\u001b[0m\u001b[0;34m,\u001b[0m\u001b[0;34m\u001b[0m\u001b[0m\n\u001b[0;32m--> 390\u001b[0;31m                                 error_score=error_score)\n\u001b[0m\u001b[1;32m    391\u001b[0m     \u001b[0;32mreturn\u001b[0m \u001b[0mcv_results\u001b[0m\u001b[0;34m[\u001b[0m\u001b[0;34m'test_score'\u001b[0m\u001b[0;34m]\u001b[0m\u001b[0;34m\u001b[0m\u001b[0m\n\u001b[1;32m    392\u001b[0m \u001b[0;34m\u001b[0m\u001b[0m\n",
      "\u001b[0;32m~/.local/lib/python3.5/site-packages/sklearn/model_selection/_validation.py\u001b[0m in \u001b[0;36mcross_validate\u001b[0;34m(estimator, X, y, groups, scoring, cv, n_jobs, verbose, fit_params, pre_dispatch, return_train_score, return_estimator, error_score)\u001b[0m\n\u001b[1;32m    234\u001b[0m             \u001b[0mreturn_times\u001b[0m\u001b[0;34m=\u001b[0m\u001b[0;32mTrue\u001b[0m\u001b[0;34m,\u001b[0m \u001b[0mreturn_estimator\u001b[0m\u001b[0;34m=\u001b[0m\u001b[0mreturn_estimator\u001b[0m\u001b[0;34m,\u001b[0m\u001b[0;34m\u001b[0m\u001b[0m\n\u001b[1;32m    235\u001b[0m             error_score=error_score)\n\u001b[0;32m--> 236\u001b[0;31m         for train, test in cv.split(X, y, groups))\n\u001b[0m\u001b[1;32m    237\u001b[0m \u001b[0;34m\u001b[0m\u001b[0m\n\u001b[1;32m    238\u001b[0m     \u001b[0mzipped_scores\u001b[0m \u001b[0;34m=\u001b[0m \u001b[0mlist\u001b[0m\u001b[0;34m(\u001b[0m\u001b[0mzip\u001b[0m\u001b[0;34m(\u001b[0m\u001b[0;34m*\u001b[0m\u001b[0mscores\u001b[0m\u001b[0;34m)\u001b[0m\u001b[0;34m)\u001b[0m\u001b[0;34m\u001b[0m\u001b[0m\n",
      "\u001b[0;32m~/.local/lib/python3.5/site-packages/joblib/parallel.py\u001b[0m in \u001b[0;36m__call__\u001b[0;34m(self, iterable)\u001b[0m\n\u001b[1;32m   1002\u001b[0m             \u001b[0;31m# remaining jobs.\u001b[0m\u001b[0;34m\u001b[0m\u001b[0;34m\u001b[0m\u001b[0m\n\u001b[1;32m   1003\u001b[0m             \u001b[0mself\u001b[0m\u001b[0;34m.\u001b[0m\u001b[0m_iterating\u001b[0m \u001b[0;34m=\u001b[0m \u001b[0;32mFalse\u001b[0m\u001b[0;34m\u001b[0m\u001b[0m\n\u001b[0;32m-> 1004\u001b[0;31m             \u001b[0;32mif\u001b[0m \u001b[0mself\u001b[0m\u001b[0;34m.\u001b[0m\u001b[0mdispatch_one_batch\u001b[0m\u001b[0;34m(\u001b[0m\u001b[0miterator\u001b[0m\u001b[0;34m)\u001b[0m\u001b[0;34m:\u001b[0m\u001b[0;34m\u001b[0m\u001b[0m\n\u001b[0m\u001b[1;32m   1005\u001b[0m                 \u001b[0mself\u001b[0m\u001b[0;34m.\u001b[0m\u001b[0m_iterating\u001b[0m \u001b[0;34m=\u001b[0m \u001b[0mself\u001b[0m\u001b[0;34m.\u001b[0m\u001b[0m_original_iterator\u001b[0m \u001b[0;32mis\u001b[0m \u001b[0;32mnot\u001b[0m \u001b[0;32mNone\u001b[0m\u001b[0;34m\u001b[0m\u001b[0m\n\u001b[1;32m   1006\u001b[0m \u001b[0;34m\u001b[0m\u001b[0m\n",
      "\u001b[0;32m~/.local/lib/python3.5/site-packages/joblib/parallel.py\u001b[0m in \u001b[0;36mdispatch_one_batch\u001b[0;34m(self, iterator)\u001b[0m\n\u001b[1;32m    833\u001b[0m                 \u001b[0;32mreturn\u001b[0m \u001b[0;32mFalse\u001b[0m\u001b[0;34m\u001b[0m\u001b[0m\n\u001b[1;32m    834\u001b[0m             \u001b[0;32melse\u001b[0m\u001b[0;34m:\u001b[0m\u001b[0;34m\u001b[0m\u001b[0m\n\u001b[0;32m--> 835\u001b[0;31m                 \u001b[0mself\u001b[0m\u001b[0;34m.\u001b[0m\u001b[0m_dispatch\u001b[0m\u001b[0;34m(\u001b[0m\u001b[0mtasks\u001b[0m\u001b[0;34m)\u001b[0m\u001b[0;34m\u001b[0m\u001b[0m\n\u001b[0m\u001b[1;32m    836\u001b[0m                 \u001b[0;32mreturn\u001b[0m \u001b[0;32mTrue\u001b[0m\u001b[0;34m\u001b[0m\u001b[0m\n\u001b[1;32m    837\u001b[0m \u001b[0;34m\u001b[0m\u001b[0m\n",
      "\u001b[0;32m~/.local/lib/python3.5/site-packages/joblib/parallel.py\u001b[0m in \u001b[0;36m_dispatch\u001b[0;34m(self, batch)\u001b[0m\n\u001b[1;32m    752\u001b[0m         \u001b[0;32mwith\u001b[0m \u001b[0mself\u001b[0m\u001b[0;34m.\u001b[0m\u001b[0m_lock\u001b[0m\u001b[0;34m:\u001b[0m\u001b[0;34m\u001b[0m\u001b[0m\n\u001b[1;32m    753\u001b[0m             \u001b[0mjob_idx\u001b[0m \u001b[0;34m=\u001b[0m \u001b[0mlen\u001b[0m\u001b[0;34m(\u001b[0m\u001b[0mself\u001b[0m\u001b[0;34m.\u001b[0m\u001b[0m_jobs\u001b[0m\u001b[0;34m)\u001b[0m\u001b[0;34m\u001b[0m\u001b[0m\n\u001b[0;32m--> 754\u001b[0;31m             \u001b[0mjob\u001b[0m \u001b[0;34m=\u001b[0m \u001b[0mself\u001b[0m\u001b[0;34m.\u001b[0m\u001b[0m_backend\u001b[0m\u001b[0;34m.\u001b[0m\u001b[0mapply_async\u001b[0m\u001b[0;34m(\u001b[0m\u001b[0mbatch\u001b[0m\u001b[0;34m,\u001b[0m \u001b[0mcallback\u001b[0m\u001b[0;34m=\u001b[0m\u001b[0mcb\u001b[0m\u001b[0;34m)\u001b[0m\u001b[0;34m\u001b[0m\u001b[0m\n\u001b[0m\u001b[1;32m    755\u001b[0m             \u001b[0;31m# A job can complete so quickly than its callback is\u001b[0m\u001b[0;34m\u001b[0m\u001b[0;34m\u001b[0m\u001b[0m\n\u001b[1;32m    756\u001b[0m             \u001b[0;31m# called before we get here, causing self._jobs to\u001b[0m\u001b[0;34m\u001b[0m\u001b[0;34m\u001b[0m\u001b[0m\n",
      "\u001b[0;32m~/.local/lib/python3.5/site-packages/joblib/_parallel_backends.py\u001b[0m in \u001b[0;36mapply_async\u001b[0;34m(self, func, callback)\u001b[0m\n\u001b[1;32m    207\u001b[0m     \u001b[0;32mdef\u001b[0m \u001b[0mapply_async\u001b[0m\u001b[0;34m(\u001b[0m\u001b[0mself\u001b[0m\u001b[0;34m,\u001b[0m \u001b[0mfunc\u001b[0m\u001b[0;34m,\u001b[0m \u001b[0mcallback\u001b[0m\u001b[0;34m=\u001b[0m\u001b[0;32mNone\u001b[0m\u001b[0;34m)\u001b[0m\u001b[0;34m:\u001b[0m\u001b[0;34m\u001b[0m\u001b[0m\n\u001b[1;32m    208\u001b[0m         \u001b[0;34m\"\"\"Schedule a func to be run\"\"\"\u001b[0m\u001b[0;34m\u001b[0m\u001b[0m\n\u001b[0;32m--> 209\u001b[0;31m         \u001b[0mresult\u001b[0m \u001b[0;34m=\u001b[0m \u001b[0mImmediateResult\u001b[0m\u001b[0;34m(\u001b[0m\u001b[0mfunc\u001b[0m\u001b[0;34m)\u001b[0m\u001b[0;34m\u001b[0m\u001b[0m\n\u001b[0m\u001b[1;32m    210\u001b[0m         \u001b[0;32mif\u001b[0m \u001b[0mcallback\u001b[0m\u001b[0;34m:\u001b[0m\u001b[0;34m\u001b[0m\u001b[0m\n\u001b[1;32m    211\u001b[0m             \u001b[0mcallback\u001b[0m\u001b[0;34m(\u001b[0m\u001b[0mresult\u001b[0m\u001b[0;34m)\u001b[0m\u001b[0;34m\u001b[0m\u001b[0m\n",
      "\u001b[0;32m~/.local/lib/python3.5/site-packages/joblib/_parallel_backends.py\u001b[0m in \u001b[0;36m__init__\u001b[0;34m(self, batch)\u001b[0m\n\u001b[1;32m    588\u001b[0m         \u001b[0;31m# Don't delay the application, to avoid keeping the input\u001b[0m\u001b[0;34m\u001b[0m\u001b[0;34m\u001b[0m\u001b[0m\n\u001b[1;32m    589\u001b[0m         \u001b[0;31m# arguments in memory\u001b[0m\u001b[0;34m\u001b[0m\u001b[0;34m\u001b[0m\u001b[0m\n\u001b[0;32m--> 590\u001b[0;31m         \u001b[0mself\u001b[0m\u001b[0;34m.\u001b[0m\u001b[0mresults\u001b[0m \u001b[0;34m=\u001b[0m \u001b[0mbatch\u001b[0m\u001b[0;34m(\u001b[0m\u001b[0;34m)\u001b[0m\u001b[0;34m\u001b[0m\u001b[0m\n\u001b[0m\u001b[1;32m    591\u001b[0m \u001b[0;34m\u001b[0m\u001b[0m\n\u001b[1;32m    592\u001b[0m     \u001b[0;32mdef\u001b[0m \u001b[0mget\u001b[0m\u001b[0;34m(\u001b[0m\u001b[0mself\u001b[0m\u001b[0;34m)\u001b[0m\u001b[0;34m:\u001b[0m\u001b[0;34m\u001b[0m\u001b[0m\n",
      "\u001b[0;32m~/.local/lib/python3.5/site-packages/joblib/parallel.py\u001b[0m in \u001b[0;36m__call__\u001b[0;34m(self)\u001b[0m\n\u001b[1;32m    254\u001b[0m         \u001b[0;32mwith\u001b[0m \u001b[0mparallel_backend\u001b[0m\u001b[0;34m(\u001b[0m\u001b[0mself\u001b[0m\u001b[0;34m.\u001b[0m\u001b[0m_backend\u001b[0m\u001b[0;34m,\u001b[0m \u001b[0mn_jobs\u001b[0m\u001b[0;34m=\u001b[0m\u001b[0mself\u001b[0m\u001b[0;34m.\u001b[0m\u001b[0m_n_jobs\u001b[0m\u001b[0;34m)\u001b[0m\u001b[0;34m:\u001b[0m\u001b[0;34m\u001b[0m\u001b[0m\n\u001b[1;32m    255\u001b[0m             return [func(*args, **kwargs)\n\u001b[0;32m--> 256\u001b[0;31m                     for func, args, kwargs in self.items]\n\u001b[0m\u001b[1;32m    257\u001b[0m \u001b[0;34m\u001b[0m\u001b[0m\n\u001b[1;32m    258\u001b[0m     \u001b[0;32mdef\u001b[0m \u001b[0m__len__\u001b[0m\u001b[0;34m(\u001b[0m\u001b[0mself\u001b[0m\u001b[0;34m)\u001b[0m\u001b[0;34m:\u001b[0m\u001b[0;34m\u001b[0m\u001b[0m\n",
      "\u001b[0;32m~/.local/lib/python3.5/site-packages/joblib/parallel.py\u001b[0m in \u001b[0;36m<listcomp>\u001b[0;34m(.0)\u001b[0m\n\u001b[1;32m    254\u001b[0m         \u001b[0;32mwith\u001b[0m \u001b[0mparallel_backend\u001b[0m\u001b[0;34m(\u001b[0m\u001b[0mself\u001b[0m\u001b[0;34m.\u001b[0m\u001b[0m_backend\u001b[0m\u001b[0;34m,\u001b[0m \u001b[0mn_jobs\u001b[0m\u001b[0;34m=\u001b[0m\u001b[0mself\u001b[0m\u001b[0;34m.\u001b[0m\u001b[0m_n_jobs\u001b[0m\u001b[0;34m)\u001b[0m\u001b[0;34m:\u001b[0m\u001b[0;34m\u001b[0m\u001b[0m\n\u001b[1;32m    255\u001b[0m             return [func(*args, **kwargs)\n\u001b[0;32m--> 256\u001b[0;31m                     for func, args, kwargs in self.items]\n\u001b[0m\u001b[1;32m    257\u001b[0m \u001b[0;34m\u001b[0m\u001b[0m\n\u001b[1;32m    258\u001b[0m     \u001b[0;32mdef\u001b[0m \u001b[0m__len__\u001b[0m\u001b[0;34m(\u001b[0m\u001b[0mself\u001b[0m\u001b[0;34m)\u001b[0m\u001b[0;34m:\u001b[0m\u001b[0;34m\u001b[0m\u001b[0m\n",
      "\u001b[0;32m~/.local/lib/python3.5/site-packages/sklearn/model_selection/_validation.py\u001b[0m in \u001b[0;36m_fit_and_score\u001b[0;34m(estimator, X, y, scorer, train, test, verbose, parameters, fit_params, return_train_score, return_parameters, return_n_test_samples, return_times, return_estimator, error_score)\u001b[0m\n\u001b[1;32m    542\u001b[0m     \u001b[0;32melse\u001b[0m\u001b[0;34m:\u001b[0m\u001b[0;34m\u001b[0m\u001b[0m\n\u001b[1;32m    543\u001b[0m         \u001b[0mfit_time\u001b[0m \u001b[0;34m=\u001b[0m \u001b[0mtime\u001b[0m\u001b[0;34m.\u001b[0m\u001b[0mtime\u001b[0m\u001b[0;34m(\u001b[0m\u001b[0;34m)\u001b[0m \u001b[0;34m-\u001b[0m \u001b[0mstart_time\u001b[0m\u001b[0;34m\u001b[0m\u001b[0m\n\u001b[0;32m--> 544\u001b[0;31m         \u001b[0mtest_scores\u001b[0m \u001b[0;34m=\u001b[0m \u001b[0m_score\u001b[0m\u001b[0;34m(\u001b[0m\u001b[0mestimator\u001b[0m\u001b[0;34m,\u001b[0m \u001b[0mX_test\u001b[0m\u001b[0;34m,\u001b[0m \u001b[0my_test\u001b[0m\u001b[0;34m,\u001b[0m \u001b[0mscorer\u001b[0m\u001b[0;34m)\u001b[0m\u001b[0;34m\u001b[0m\u001b[0m\n\u001b[0m\u001b[1;32m    545\u001b[0m         \u001b[0mscore_time\u001b[0m \u001b[0;34m=\u001b[0m \u001b[0mtime\u001b[0m\u001b[0;34m.\u001b[0m\u001b[0mtime\u001b[0m\u001b[0;34m(\u001b[0m\u001b[0;34m)\u001b[0m \u001b[0;34m-\u001b[0m \u001b[0mstart_time\u001b[0m \u001b[0;34m-\u001b[0m \u001b[0mfit_time\u001b[0m\u001b[0;34m\u001b[0m\u001b[0m\n\u001b[1;32m    546\u001b[0m         \u001b[0;32mif\u001b[0m \u001b[0mreturn_train_score\u001b[0m\u001b[0;34m:\u001b[0m\u001b[0;34m\u001b[0m\u001b[0m\n",
      "\u001b[0;32m~/.local/lib/python3.5/site-packages/sklearn/model_selection/_validation.py\u001b[0m in \u001b[0;36m_score\u001b[0;34m(estimator, X_test, y_test, scorer)\u001b[0m\n\u001b[1;32m    589\u001b[0m         \u001b[0mscores\u001b[0m \u001b[0;34m=\u001b[0m \u001b[0mscorer\u001b[0m\u001b[0;34m(\u001b[0m\u001b[0mestimator\u001b[0m\u001b[0;34m,\u001b[0m \u001b[0mX_test\u001b[0m\u001b[0;34m)\u001b[0m\u001b[0;34m\u001b[0m\u001b[0m\n\u001b[1;32m    590\u001b[0m     \u001b[0;32melse\u001b[0m\u001b[0;34m:\u001b[0m\u001b[0;34m\u001b[0m\u001b[0m\n\u001b[0;32m--> 591\u001b[0;31m         \u001b[0mscores\u001b[0m \u001b[0;34m=\u001b[0m \u001b[0mscorer\u001b[0m\u001b[0;34m(\u001b[0m\u001b[0mestimator\u001b[0m\u001b[0;34m,\u001b[0m \u001b[0mX_test\u001b[0m\u001b[0;34m,\u001b[0m \u001b[0my_test\u001b[0m\u001b[0;34m)\u001b[0m\u001b[0;34m\u001b[0m\u001b[0m\n\u001b[0m\u001b[1;32m    592\u001b[0m \u001b[0;34m\u001b[0m\u001b[0m\n\u001b[1;32m    593\u001b[0m     error_msg = (\"scoring must return a number, got %s (%s) \"\n",
      "\u001b[0;32m~/.local/lib/python3.5/site-packages/sklearn/metrics/_scorer.py\u001b[0m in \u001b[0;36m__call__\u001b[0;34m(self, estimator, *args, **kwargs)\u001b[0m\n\u001b[1;32m     85\u001b[0m             \u001b[0;32mif\u001b[0m \u001b[0misinstance\u001b[0m\u001b[0;34m(\u001b[0m\u001b[0mscorer\u001b[0m\u001b[0;34m,\u001b[0m \u001b[0m_BaseScorer\u001b[0m\u001b[0;34m)\u001b[0m\u001b[0;34m:\u001b[0m\u001b[0;34m\u001b[0m\u001b[0m\n\u001b[1;32m     86\u001b[0m                 score = scorer._score(cached_call, estimator,\n\u001b[0;32m---> 87\u001b[0;31m                                       *args, **kwargs)\n\u001b[0m\u001b[1;32m     88\u001b[0m             \u001b[0;32melse\u001b[0m\u001b[0;34m:\u001b[0m\u001b[0;34m\u001b[0m\u001b[0m\n\u001b[1;32m     89\u001b[0m                 \u001b[0mscore\u001b[0m \u001b[0;34m=\u001b[0m \u001b[0mscorer\u001b[0m\u001b[0;34m(\u001b[0m\u001b[0mestimator\u001b[0m\u001b[0;34m,\u001b[0m \u001b[0;34m*\u001b[0m\u001b[0margs\u001b[0m\u001b[0;34m,\u001b[0m \u001b[0;34m**\u001b[0m\u001b[0mkwargs\u001b[0m\u001b[0;34m)\u001b[0m\u001b[0;34m\u001b[0m\u001b[0m\n",
      "\u001b[0;32m~/.local/lib/python3.5/site-packages/sklearn/metrics/_scorer.py\u001b[0m in \u001b[0;36m_score\u001b[0;34m(self, method_caller, estimator, X, y_true, sample_weight)\u001b[0m\n\u001b[1;32m    210\u001b[0m         \u001b[0;32melse\u001b[0m\u001b[0;34m:\u001b[0m\u001b[0;34m\u001b[0m\u001b[0m\n\u001b[1;32m    211\u001b[0m             return self._sign * self._score_func(y_true, y_pred,\n\u001b[0;32m--> 212\u001b[0;31m                                                  **self._kwargs)\n\u001b[0m\u001b[1;32m    213\u001b[0m \u001b[0;34m\u001b[0m\u001b[0m\n\u001b[1;32m    214\u001b[0m \u001b[0;34m\u001b[0m\u001b[0m\n",
      "\u001b[0;32m~/.local/lib/python3.5/site-packages/sklearn/metrics/_classification.py\u001b[0m in \u001b[0;36maccuracy_score\u001b[0;34m(y_true, y_pred, normalize, sample_weight)\u001b[0m\n\u001b[1;32m    183\u001b[0m \u001b[0;34m\u001b[0m\u001b[0m\n\u001b[1;32m    184\u001b[0m     \u001b[0;31m# Compute accuracy for each possible representation\u001b[0m\u001b[0;34m\u001b[0m\u001b[0;34m\u001b[0m\u001b[0m\n\u001b[0;32m--> 185\u001b[0;31m     \u001b[0my_type\u001b[0m\u001b[0;34m,\u001b[0m \u001b[0my_true\u001b[0m\u001b[0;34m,\u001b[0m \u001b[0my_pred\u001b[0m \u001b[0;34m=\u001b[0m \u001b[0m_check_targets\u001b[0m\u001b[0;34m(\u001b[0m\u001b[0my_true\u001b[0m\u001b[0;34m,\u001b[0m \u001b[0my_pred\u001b[0m\u001b[0;34m)\u001b[0m\u001b[0;34m\u001b[0m\u001b[0m\n\u001b[0m\u001b[1;32m    186\u001b[0m     \u001b[0mcheck_consistent_length\u001b[0m\u001b[0;34m(\u001b[0m\u001b[0my_true\u001b[0m\u001b[0;34m,\u001b[0m \u001b[0my_pred\u001b[0m\u001b[0;34m,\u001b[0m \u001b[0msample_weight\u001b[0m\u001b[0;34m)\u001b[0m\u001b[0;34m\u001b[0m\u001b[0m\n\u001b[1;32m    187\u001b[0m     \u001b[0;32mif\u001b[0m \u001b[0my_type\u001b[0m\u001b[0;34m.\u001b[0m\u001b[0mstartswith\u001b[0m\u001b[0;34m(\u001b[0m\u001b[0;34m'multilabel'\u001b[0m\u001b[0;34m)\u001b[0m\u001b[0;34m:\u001b[0m\u001b[0;34m\u001b[0m\u001b[0m\n",
      "\u001b[0;32m~/.local/lib/python3.5/site-packages/sklearn/metrics/_classification.py\u001b[0m in \u001b[0;36m_check_targets\u001b[0;34m(y_true, y_pred)\u001b[0m\n\u001b[1;32m     88\u001b[0m     \u001b[0;32mif\u001b[0m \u001b[0mlen\u001b[0m\u001b[0;34m(\u001b[0m\u001b[0my_type\u001b[0m\u001b[0;34m)\u001b[0m \u001b[0;34m>\u001b[0m \u001b[0;36m1\u001b[0m\u001b[0;34m:\u001b[0m\u001b[0;34m\u001b[0m\u001b[0m\n\u001b[1;32m     89\u001b[0m         raise ValueError(\"Classification metrics can't handle a mix of {0} \"\n\u001b[0;32m---> 90\u001b[0;31m                          \"and {1} targets\".format(type_true, type_pred))\n\u001b[0m\u001b[1;32m     91\u001b[0m \u001b[0;34m\u001b[0m\u001b[0m\n\u001b[1;32m     92\u001b[0m     \u001b[0;31m# We can't have more than one value on y_type => The set is no more needed\u001b[0m\u001b[0;34m\u001b[0m\u001b[0;34m\u001b[0m\u001b[0m\n",
      "\u001b[0;31mValueError\u001b[0m: Classification metrics can't handle a mix of multiclass and continuous targets"
     ]
    },
    {
     "data": {
      "image/png": "[encoded data removed]",
      "text/plain": [
       "<Figure size 432x288 with 1 Axes>"
      ]
     },
     "metadata": {
      "needs_background": "light"
     },
     "output_type": "display_data"
    }
   ],
   "source": [
    "# Build a classification task using 3 informative features\n",
    "X, y = make_classification(n_samples=1000, n_features=29, n_informative=3,\n",
    "                           n_redundant=2, n_repeated=0, n_classes=8,\n",
    "                           n_clusters_per_class=1, random_state=0)\n",
    "\n",
    "# Create the RFE object and compute a cross-validated score.\n",
    "svc = RandomForestRegressor(n_estimators = 200, random_state = 42)\n",
    "# The \"accuracy\" scoring is proportional to the number of correct\n",
    "# classifications\n",
    "\n",
    "min_features_to_select = 1  # Minimum number of features to consider\n",
    "rfecv = RFECV(estimator=svc, step=1, cv=StratifiedKFold(2),\n",
    "              scoring='accuracy',\n",
    "              min_features_to_select=min_features_to_select)\n",
    "print(X, y) \n",
    "rfecv.fit(X, y)"
   ]
  },
  {
   "cell_type": "code",
   "execution_count": null,
   "metadata": {},
   "outputs": [],
   "source": []
  },
  {
   "cell_type": "code",
   "execution_count": null,
   "metadata": {},
   "outputs": [],
   "source": []
  },
  {
   "cell_type": "code",
   "execution_count": null,
   "metadata": {},
   "outputs": [],
   "source": []
  },
  {
   "cell_type": "code",
   "execution_count": 8,
   "metadata": {
    "scrolled": true
   },
   "outputs": [
    {
     "ename": "NotFittedError",
     "evalue": "This RandomForestRegressor instance is not fitted yet. Call 'fit' with appropriate arguments before using this estimator.",
     "output_type": "error",
     "traceback": [
      "\u001b[0;31m---------------------------------------------------------------------------\u001b[0m",
      "\u001b[0;31mNotFittedError\u001b[0m                            Traceback (most recent call last)",
      "\u001b[0;32m<ipython-input-8-eb270f5c1608>\u001b[0m in \u001b[0;36m<module>\u001b[0;34m\u001b[0m\n\u001b[0;32m----> 1\u001b[0;31m \u001b[0mimportances\u001b[0m \u001b[0;34m=\u001b[0m \u001b[0mrf\u001b[0m\u001b[0;34m.\u001b[0m\u001b[0mfeature_importances_\u001b[0m\u001b[0;34m\u001b[0m\u001b[0m\n\u001b[0m\u001b[1;32m      2\u001b[0m std = np.std([tree.feature_importances_ for tree in rf.estimators_],\n\u001b[1;32m      3\u001b[0m              axis=0)\n\u001b[1;32m      4\u001b[0m \u001b[0mindices\u001b[0m \u001b[0;34m=\u001b[0m \u001b[0mnp\u001b[0m\u001b[0;34m.\u001b[0m\u001b[0margsort\u001b[0m\u001b[0;34m(\u001b[0m\u001b[0mimportances\u001b[0m\u001b[0;34m)\u001b[0m\u001b[0;34m[\u001b[0m\u001b[0;34m:\u001b[0m\u001b[0;34m:\u001b[0m\u001b[0;34m-\u001b[0m\u001b[0;36m1\u001b[0m\u001b[0;34m]\u001b[0m\u001b[0;34m\u001b[0m\u001b[0m\n\u001b[1;32m      5\u001b[0m \u001b[0;34m\u001b[0m\u001b[0m\n",
      "\u001b[0;32m~/.local/lib/python3.5/site-packages/sklearn/ensemble/_forest.py\u001b[0m in \u001b[0;36mfeature_importances_\u001b[0;34m(self)\u001b[0m\n\u001b[1;32m    425\u001b[0m             \u001b[0marray\u001b[0m \u001b[0mof\u001b[0m \u001b[0mzeros\u001b[0m\u001b[0;34m.\u001b[0m\u001b[0;34m\u001b[0m\u001b[0m\n\u001b[1;32m    426\u001b[0m         \"\"\"\n\u001b[0;32m--> 427\u001b[0;31m         \u001b[0mcheck_is_fitted\u001b[0m\u001b[0;34m(\u001b[0m\u001b[0mself\u001b[0m\u001b[0;34m)\u001b[0m\u001b[0;34m\u001b[0m\u001b[0m\n\u001b[0m\u001b[1;32m    428\u001b[0m \u001b[0;34m\u001b[0m\u001b[0m\n\u001b[1;32m    429\u001b[0m         all_importances = Parallel(n_jobs=self.n_jobs,\n",
      "\u001b[0;32m~/.local/lib/python3.5/site-packages/sklearn/utils/validation.py\u001b[0m in \u001b[0;36mcheck_is_fitted\u001b[0;34m(estimator, attributes, msg, all_or_any)\u001b[0m\n\u001b[1;32m    965\u001b[0m \u001b[0;34m\u001b[0m\u001b[0m\n\u001b[1;32m    966\u001b[0m     \u001b[0;32mif\u001b[0m \u001b[0;32mnot\u001b[0m \u001b[0mattrs\u001b[0m\u001b[0;34m:\u001b[0m\u001b[0;34m\u001b[0m\u001b[0m\n\u001b[0;32m--> 967\u001b[0;31m         \u001b[0;32mraise\u001b[0m \u001b[0mNotFittedError\u001b[0m\u001b[0;34m(\u001b[0m\u001b[0mmsg\u001b[0m \u001b[0;34m%\u001b[0m \u001b[0;34m{\u001b[0m\u001b[0;34m'name'\u001b[0m\u001b[0;34m:\u001b[0m \u001b[0mtype\u001b[0m\u001b[0;34m(\u001b[0m\u001b[0mestimator\u001b[0m\u001b[0;34m)\u001b[0m\u001b[0;34m.\u001b[0m\u001b[0m__name__\u001b[0m\u001b[0;34m}\u001b[0m\u001b[0;34m)\u001b[0m\u001b[0;34m\u001b[0m\u001b[0m\n\u001b[0m\u001b[1;32m    968\u001b[0m \u001b[0;34m\u001b[0m\u001b[0m\n\u001b[1;32m    969\u001b[0m \u001b[0;34m\u001b[0m\u001b[0m\n",
      "\u001b[0;31mNotFittedError\u001b[0m: This RandomForestRegressor instance is not fitted yet. Call 'fit' with appropriate arguments before using this estimator."
     ]
    }
   ],
   "source": [
    "importances = rf.feature_importances_\n",
    "std = np.std([tree.feature_importances_ for tree in rf.estimators_],\n",
    "             axis=0)\n",
    "indices = np.argsort(importances)[::-1]\n",
    "\n",
    "feature_list = [\"pcons\",\"proq4\",\"dan\",\"seqlength\",\"Neff\",\"DIS\",\"FC\",\"FE\",\"FH\",\"A\",\"C\",\"E\",\"D\",\"G\",\"F\",\"I\",\"H\",\"K\",\"M\",\"L\",\"N\",\"Q\",\"P\",\"S\",\"R\",\"T\",\"W\",\"V\",\"Y\"] #names of features.\n",
    "ff = np.array(feature_list)\n",
    "\n",
    "# Print the feature ranking\n",
    "print(\"Feature ranking:\")\n",
    "\n",
    "for f in range(dft.shape[1]):\n",
    "        print(\"%d. feature: %s (%f)\" % (f + 1, ff[indices[f]], importances[indices[f]]))"
   ]
  },
  {
   "cell_type": "code",
   "execution_count": 210,
   "metadata": {},
   "outputs": [
    {
     "data": {
      "image/png": "[encoded data removed]",
      "text/plain": [
       "<Figure size 576x396 with 1 Axes>"
      ]
     },
     "metadata": {},
     "output_type": "display_data"
    }
   ],
   "source": [
    "import numpy as np\n",
    "import pandas as pd\n",
    "import matplotlib.pyplot as plt\n",
    "import seaborn as sns\n",
    "\n",
    "dff =  pd.read_csv(\"features.csv\")\n",
    "\n",
    "\n",
    "ax = sns.barplot(x=\"Feature\", y=\"Importance\", data=dff)\n",
    "\n",
    "\n",
    "ax.set_ylabel(\"Features\")\n",
    "fig = ax.get_figure()\n",
    "\n",
    "plt.show() "
   ]
  },
  {
   "cell_type": "code",
   "execution_count": 20,
   "metadata": {
    "scrolled": true
   },
   "outputs": [
    {
     "name": "stdout",
     "output_type": "stream",
     "text": [
      "            Prediction   TMscore\n",
      "Prediction    1.000000  0.809861\n",
      "TMscore       0.809861  1.000000\n",
      "            Prediction   Tmscore\n",
      "Prediction    1.000000  0.981954\n",
      "Tmscore       0.981954  1.000000\n",
      "            Prediction   TMscore\n",
      "Prediction    1.000000  0.916765\n",
      "TMscore       0.916765  1.000000\n",
      "            Prediction  TMscore\n",
      "Prediction     1.00000  0.72365\n",
      "TMscore        0.72365  1.00000\n"
     ]
    }
   ],
   "source": [
    "import numpy as np\n",
    "import pandas as pd\n",
    "\n",
    "dfp =  pd.read_csv(\"prediction.csv\")\n",
    "dfp2 =  pd.read_csv(\"prediction_2.csv\")\n",
    "dfpnodan =  pd.read_csv(\"prediction_nodan.csv\")\n",
    "dfpnodanlen =  pd.read_csv(\"prediction_nodanlen.csv\")\n",
    "\n",
    "\n",
    "Cor = dfp.corr(method='pearson')\n",
    "Cor2 = dfp2.corr(method='pearson')\n",
    "\n",
    "Cornodan = dfpnodan.corr(method='pearson')\n",
    "Cornodanlen = dfpnodanlen.corr(method='pearson')\n",
    "\n",
    "print(Cor)\n",
    "print(Cor2)\n",
    "print(Cornodan)\n",
    "print(Cornodanlen)"
   ]
  },
  {
   "cell_type": "code",
   "execution_count": 17,
   "metadata": {
    "scrolled": false
   },
   "outputs": [
    {
     "name": "stdout",
     "output_type": "stream",
     "text": [
      "0.03935478945907345\n",
      "0.053617467317139955\n",
      "0.041446939021404\n",
      "0.06958280842330501\n"
     ]
    }
   ],
   "source": [
    "import numpy as np\n",
    "import pandas as pd\n",
    "\n",
    "dfp =  pd.read_csv(\"prediction_comparison.csv\")\n",
    "dfsd_nodan =  pd.read_csv(\"prediction_comparison_noDAN.csv\")\n",
    "\n",
    "Cor = dfp.corr(method='pearson')\n",
    "dfsd=dfp.groupby(['modelID'])['Prediction','Prediction_length'].std()\n",
    "print(dfsd['Prediction_length'].mean())\n",
    "print(dfsd['Prediction'].mean())\n",
    "\n",
    "dfsd_nodan2=dfsd_nodan.groupby(['modelID'])['Prediction_nodan','Prediction_nodanlen'].std()\n",
    "print(dfsd_nodan2['Prediction_nodan'].mean())\n",
    "print(dfsd_nodan2['Prediction_nodanlen'].mean())"
   ]
  },
  {
   "cell_type": "code",
   "execution_count": 3,
   "metadata": {},
   "outputs": [
    {
     "data": {
      "image/png": "[encoded data removed]",
      "text/plain": [
       "<Figure size 432x288 with 1 Axes>"
      ]
     },
     "metadata": {
      "needs_background": "light"
     },
     "output_type": "display_data"
    }
   ],
   "source": [
    "import numpy as np\n",
    "import pandas as pd\n",
    "import matplotlib.pyplot as plt\n",
    "import seaborn as sns\n",
    "\n",
    "dfr =  pd.read_csv(\"result.csv\")\n",
    "\n",
    "ax = sns.barplot(x=\"Predictor\", y=\"Pearson\", data=dfr)\n",
    "ax.set_ylim(0,1)\n",
    "\n",
    "ax.set_ylabel(\"Pearson correlation\")\n",
    "fig = ax.get_figure()\n",
    "\n",
    "plt.show() "
   ]
  },
  {
   "cell_type": "code",
   "execution_count": null,
   "metadata": {},
   "outputs": [],
   "source": []
  }
 ],
 "metadata": {
  "kernelspec": {
   "display_name": "Python 3",
   "language": "python",
   "name": "python3"
  },
  "language_info": {
   "codemirror_mode": {
    "name": "ipython",
    "version": 3
   },
   "file_extension": ".py",
   "mimetype": "text/x-python",
   "name": "python",
   "nbconvert_exporter": "python",
   "pygments_lexer": "ipython3",
   "version": "3.5.2"
  }
 },
 "nbformat": 4,
 "nbformat_minor": 4
}
